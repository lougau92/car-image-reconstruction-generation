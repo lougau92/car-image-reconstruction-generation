{
 "cells": [
  {
   "cell_type": "code",
   "execution_count": null,
   "id": "ac716acb-e9f0-4990-a018-d698f9a276c2",
   "metadata": {},
   "outputs": [
    {
     "data": {
      "application/vnd.jupyter.widget-view+json": {
       "model_id": "20d7fc6175c146acafe73ce0682ff103",
       "version_major": 2,
       "version_minor": 0
      },
      "text/plain": [
       "  0%|          | 0/51 [00:00<?, ?it/s]"
      ]
     },
     "metadata": {},
     "output_type": "display_data"
    },
    {
     "data": {
      "application/vnd.jupyter.widget-view+json": {
       "model_id": "d111f0e757804a17a09664afe125c4cc",
       "version_major": 2,
       "version_minor": 0
      },
      "text/plain": [
       "  0%|          | 0/51 [00:00<?, ?it/s]"
      ]
     },
     "metadata": {},
     "output_type": "display_data"
    },
    {
     "data": {
      "application/vnd.jupyter.widget-view+json": {
       "model_id": "bc276b37456c49a79c9d3956d92e4fc0",
       "version_major": 2,
       "version_minor": 0
      },
      "text/plain": [
       "  0%|          | 0/51 [00:00<?, ?it/s]"
      ]
     },
     "metadata": {},
     "output_type": "display_data"
    },
    {
     "data": {
      "application/vnd.jupyter.widget-view+json": {
       "model_id": "96275608930b423fb18ca91f3ab05ae5",
       "version_major": 2,
       "version_minor": 0
      },
      "text/plain": [
       "  0%|          | 0/51 [00:00<?, ?it/s]"
      ]
     },
     "metadata": {},
     "output_type": "display_data"
    },
    {
     "data": {
      "application/vnd.jupyter.widget-view+json": {
       "model_id": "6e7f578044394d099bd08aba4b2ee499",
       "version_major": 2,
       "version_minor": 0
      },
      "text/plain": [
       "  0%|          | 0/51 [00:00<?, ?it/s]"
      ]
     },
     "metadata": {},
     "output_type": "display_data"
    },
    {
     "data": {
      "application/vnd.jupyter.widget-view+json": {
       "model_id": "7da9bae7b0f84211bbff4c76e57b15b5",
       "version_major": 2,
       "version_minor": 0
      },
      "text/plain": [
       "  0%|          | 0/51 [00:00<?, ?it/s]"
      ]
     },
     "metadata": {},
     "output_type": "display_data"
    }
   ],
   "source": [
    "# %sh\n",
    "# pip install -q --upgrade pip\n",
    "# pip install -q --upgrade diffusers transformers scipy ftfy huggingface_hub roboflow\n",
    "# from huggingface_hub import login\n",
    "\n",
    "# # Required to get access to stable diffusion model\n",
    "# login(token= \"XXX\")\n",
    "\n",
    "# https://github.com/huggingface/diffusers#text-to-image-generation-with-stable-diffusion\n",
    "\n",
    "# generate images from text prompts that is a class from the nrb dataset\n",
    "import torch\n",
    "from diffusers import StableDiffusionPipeline\n",
    "\n",
    "pipeline = StableDiffusionPipeline.from_pretrained(\n",
    "    \"./stable-diffusion-v1-5\", torch_dtype=torch.float16, revision=\"fp16\"\n",
    ")\n",
    "\n",
    "pipeline = pipeline.to(\"cuda\")\n",
    "\n",
    "import os\n",
    "\n",
    "from IPython.display import Image, display\n",
    "\n",
    "\n",
    "def generate_images(\n",
    "    prompt,\n",
    "    num_images_to_generate,\n",
    "    num_images_per_prompt=4,\n",
    "    guidance_scale=8,\n",
    "    output_dir=\"images\",\n",
    "    display_images=False,\n",
    "):\n",
    "    \n",
    "    output_dir=output_dir+\"/\"+prompt\n",
    "    num_iterations = num_images_to_generate // num_images_per_prompt\n",
    "    os.makedirs(output_dir, exist_ok=True)\n",
    "\n",
    "    for i in range(num_iterations):\n",
    "        images = pipeline(\n",
    "            prompt, num_images_per_prompt=num_images_per_prompt, guidance_scale=guidance_scale\n",
    "        )\n",
    "        for idx, image in enumerate(images.images):\n",
    "            image_name = f\"{output_dir}/image_{(i*num_images_per_prompt)+idx}.png\"\n",
    "            image.save(image_name)\n",
    "            if display_images:\n",
    "                display(Image(filename=image_name, width=128, height=128))\n",
    "\n",
    "# 1000 images takes a couple hours on a SageMaker Studio Lab GPU instance \n",
    "\n",
    "generate_images(\"side view of car with a scratch\", 25, guidance_scale=4, display_images=False)\n",
    "\n"
   ]
  },
  {
   "cell_type": "code",
   "execution_count": null,
   "id": "87b8a427-e145-4078-b643-bb001fefa9ec",
   "metadata": {},
   "outputs": [
    {
     "name": "stdout",
     "output_type": "stream",
     "text": [
      "loading Roboflow workspace...\n",
      "loading Roboflow project...\n",
      "*** Processing image [4] - /home/AI/projects/tfe-louis/louis/damaged-cars-assessor/images/image_0.png ***\n",
      "*** Processing image [4] - /home/AI/projects/tfe-louis/louis/damaged-cars-assessor/images/image_1.png ***\n",
      "*** Processing image [4] - /home/AI/projects/tfe-louis/louis/damaged-cars-assessor/images/image_2.png ***\n",
      "*** Processing image [4] - /home/AI/projects/tfe-louis/louis/damaged-cars-assessor/images/image_3.png ***\n"
     ]
    }
   ],
   "source": [
    "#  dataset generation with roboflow\n",
    "\n",
    "# import os\n",
    "# HOME = os.getcwd()\n",
    "# image_dir = os.path.join(HOME, \"images\", \"\")\n",
    "# file_path = HOME+\"/images/\"\n",
    "\n",
    "# from roboflow import Roboflow\n",
    "# import glob\n",
    "# import os\n",
    "\n",
    "# ## DEFINITIONS\n",
    "# # glob params\n",
    "# image_dir = os.path.join(HOME, \"images\", \"\")\n",
    "# file_extension_type = \".png\"\n",
    "\n",
    "# ## INIT\n",
    "# # roboflow pip params\n",
    "# rf = Roboflow(api_key=\"XXX\")\n",
    "# # print(rf.workspace())\n",
    "# upload_project = rf.workspace().project(\"project-rzbel\")\n",
    "\n",
    "# # MAIN\n",
    "# # glob images\n",
    "# image_glob = glob.glob(image_dir + '/*' + file_extension_type)\n",
    "\n",
    "# # perform upload\n",
    "# for image in image_glob:\n",
    "#     upload_project.upload(image, num_retry_uploads=3)\n",
    "#     print(\"*** Processing image [\" + str(len(image_glob)) + \"] - \" + image + \" ***\")"
   ]
  }
 ],
 "metadata": {
  "kernelspec": {
   "display_name": "Python 3",
   "language": "python",
   "name": "python3"
  },
  "language_info": {
   "codemirror_mode": {
    "name": "ipython",
    "version": 3
   },
   "file_extension": ".py",
   "mimetype": "text/x-python",
   "name": "python",
   "nbconvert_exporter": "python",
   "pygments_lexer": "ipython3",
   "version": "3.7.15"
  },
  "vscode": {
   "interpreter": {
    "hash": "0d56fbe278f0540fbddc6eb4f6741b7428f8daba5df19feb25f241471c4e7547"
   }
  }
 },
 "nbformat": 4,
 "nbformat_minor": 5
}
